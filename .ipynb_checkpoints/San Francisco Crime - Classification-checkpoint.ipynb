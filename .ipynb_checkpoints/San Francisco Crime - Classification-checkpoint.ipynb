{
 "cells": [
  {
   "cell_type": "markdown",
   "metadata": {},
   "source": [
    "![Picture](https://www.kaggle.io/svf/13895/52fee3281b7a4f4496bd6627a0a3a243/sf_top_crimes_map.png)"
   ]
  },
  {
   "cell_type": "markdown",
   "metadata": {},
   "source": [
    "Данные взяты с сайта [соревнования Kaggle](https://www.kaggle.com/c/sf-crime/data)"
   ]
  },
  {
   "cell_type": "code",
   "execution_count": 45,
   "metadata": {
    "collapsed": false
   },
   "outputs": [
    {
     "data": {
      "text/html": [
       "<div>\n",
       "<table border=\"1\" class=\"dataframe\">\n",
       "  <thead>\n",
       "    <tr style=\"text-align: right;\">\n",
       "      <th></th>\n",
       "      <th>Dates</th>\n",
       "      <th>Category</th>\n",
       "      <th>Descript</th>\n",
       "      <th>DayOfWeek</th>\n",
       "      <th>PdDistrict</th>\n",
       "      <th>Resolution</th>\n",
       "      <th>Address</th>\n",
       "      <th>X</th>\n",
       "      <th>Y</th>\n",
       "    </tr>\n",
       "  </thead>\n",
       "  <tbody>\n",
       "    <tr>\n",
       "      <th>0</th>\n",
       "      <td>2015-05-13 23:53:00</td>\n",
       "      <td>WARRANTS</td>\n",
       "      <td>WARRANT ARREST</td>\n",
       "      <td>Wednesday</td>\n",
       "      <td>NORTHERN</td>\n",
       "      <td>ARREST, BOOKED</td>\n",
       "      <td>OAK ST / LAGUNA ST</td>\n",
       "      <td>-122.425892</td>\n",
       "      <td>37.774599</td>\n",
       "    </tr>\n",
       "    <tr>\n",
       "      <th>1</th>\n",
       "      <td>2015-05-13 23:53:00</td>\n",
       "      <td>OTHER OFFENSES</td>\n",
       "      <td>TRAFFIC VIOLATION ARREST</td>\n",
       "      <td>Wednesday</td>\n",
       "      <td>NORTHERN</td>\n",
       "      <td>ARREST, BOOKED</td>\n",
       "      <td>OAK ST / LAGUNA ST</td>\n",
       "      <td>-122.425892</td>\n",
       "      <td>37.774599</td>\n",
       "    </tr>\n",
       "    <tr>\n",
       "      <th>2</th>\n",
       "      <td>2015-05-13 23:33:00</td>\n",
       "      <td>OTHER OFFENSES</td>\n",
       "      <td>TRAFFIC VIOLATION ARREST</td>\n",
       "      <td>Wednesday</td>\n",
       "      <td>NORTHERN</td>\n",
       "      <td>ARREST, BOOKED</td>\n",
       "      <td>VANNESS AV / GREENWICH ST</td>\n",
       "      <td>-122.424363</td>\n",
       "      <td>37.800414</td>\n",
       "    </tr>\n",
       "    <tr>\n",
       "      <th>3</th>\n",
       "      <td>2015-05-13 23:30:00</td>\n",
       "      <td>LARCENY/THEFT</td>\n",
       "      <td>GRAND THEFT FROM LOCKED AUTO</td>\n",
       "      <td>Wednesday</td>\n",
       "      <td>NORTHERN</td>\n",
       "      <td>NONE</td>\n",
       "      <td>1500 Block of LOMBARD ST</td>\n",
       "      <td>-122.426995</td>\n",
       "      <td>37.800873</td>\n",
       "    </tr>\n",
       "    <tr>\n",
       "      <th>4</th>\n",
       "      <td>2015-05-13 23:30:00</td>\n",
       "      <td>LARCENY/THEFT</td>\n",
       "      <td>GRAND THEFT FROM LOCKED AUTO</td>\n",
       "      <td>Wednesday</td>\n",
       "      <td>PARK</td>\n",
       "      <td>NONE</td>\n",
       "      <td>100 Block of BRODERICK ST</td>\n",
       "      <td>-122.438738</td>\n",
       "      <td>37.771541</td>\n",
       "    </tr>\n",
       "  </tbody>\n",
       "</table>\n",
       "</div>"
      ],
      "text/plain": [
       "                 Dates        Category                      Descript  \\\n",
       "0  2015-05-13 23:53:00        WARRANTS                WARRANT ARREST   \n",
       "1  2015-05-13 23:53:00  OTHER OFFENSES      TRAFFIC VIOLATION ARREST   \n",
       "2  2015-05-13 23:33:00  OTHER OFFENSES      TRAFFIC VIOLATION ARREST   \n",
       "3  2015-05-13 23:30:00   LARCENY/THEFT  GRAND THEFT FROM LOCKED AUTO   \n",
       "4  2015-05-13 23:30:00   LARCENY/THEFT  GRAND THEFT FROM LOCKED AUTO   \n",
       "\n",
       "   DayOfWeek PdDistrict      Resolution                    Address  \\\n",
       "0  Wednesday   NORTHERN  ARREST, BOOKED         OAK ST / LAGUNA ST   \n",
       "1  Wednesday   NORTHERN  ARREST, BOOKED         OAK ST / LAGUNA ST   \n",
       "2  Wednesday   NORTHERN  ARREST, BOOKED  VANNESS AV / GREENWICH ST   \n",
       "3  Wednesday   NORTHERN            NONE   1500 Block of LOMBARD ST   \n",
       "4  Wednesday       PARK            NONE  100 Block of BRODERICK ST   \n",
       "\n",
       "            X          Y  \n",
       "0 -122.425892  37.774599  \n",
       "1 -122.425892  37.774599  \n",
       "2 -122.424363  37.800414  \n",
       "3 -122.426995  37.800873  \n",
       "4 -122.438738  37.771541  "
      ]
     },
     "execution_count": 45,
     "metadata": {},
     "output_type": "execute_result"
    }
   ],
   "source": [
    "import pandas as pd\n",
    "import numpy as np\n",
    "import math\n",
    "%matplotlib inline\n",
    "\n",
    "data = pd.read_csv(\"train-full.csv\")\n",
    "data.head()"
   ]
  },
  {
   "cell_type": "markdown",
   "metadata": {},
   "source": [
    "Набор данных представляет собой таблицу о происшествиях в Сан-Франциско со следующими столбцами:\n",
    "- Дата\n",
    "- Категория\n",
    "- Описание\n",
    "- День недели\n",
    "- Район\n",
    "- Результат\n",
    "- Адрес\n",
    "- Координаты X, Y"
   ]
  },
  {
   "cell_type": "code",
   "execution_count": 46,
   "metadata": {
    "collapsed": false
   },
   "outputs": [
    {
     "data": {
      "text/html": [
       "<div>\n",
       "<table border=\"1\" class=\"dataframe\">\n",
       "  <thead>\n",
       "    <tr style=\"text-align: right;\">\n",
       "      <th></th>\n",
       "      <th>X</th>\n",
       "      <th>Y</th>\n",
       "    </tr>\n",
       "  </thead>\n",
       "  <tbody>\n",
       "    <tr>\n",
       "      <th>count</th>\n",
       "      <td>878049.000000</td>\n",
       "      <td>878049.000000</td>\n",
       "    </tr>\n",
       "    <tr>\n",
       "      <th>mean</th>\n",
       "      <td>-122.422616</td>\n",
       "      <td>37.771020</td>\n",
       "    </tr>\n",
       "    <tr>\n",
       "      <th>std</th>\n",
       "      <td>0.030354</td>\n",
       "      <td>0.456893</td>\n",
       "    </tr>\n",
       "    <tr>\n",
       "      <th>min</th>\n",
       "      <td>-122.513642</td>\n",
       "      <td>37.707879</td>\n",
       "    </tr>\n",
       "    <tr>\n",
       "      <th>25%</th>\n",
       "      <td>-122.432952</td>\n",
       "      <td>37.752427</td>\n",
       "    </tr>\n",
       "    <tr>\n",
       "      <th>50%</th>\n",
       "      <td>-122.416420</td>\n",
       "      <td>37.775421</td>\n",
       "    </tr>\n",
       "    <tr>\n",
       "      <th>75%</th>\n",
       "      <td>-122.406959</td>\n",
       "      <td>37.784369</td>\n",
       "    </tr>\n",
       "    <tr>\n",
       "      <th>max</th>\n",
       "      <td>-120.500000</td>\n",
       "      <td>90.000000</td>\n",
       "    </tr>\n",
       "  </tbody>\n",
       "</table>\n",
       "</div>"
      ],
      "text/plain": [
       "                   X              Y\n",
       "count  878049.000000  878049.000000\n",
       "mean     -122.422616      37.771020\n",
       "std         0.030354       0.456893\n",
       "min      -122.513642      37.707879\n",
       "25%      -122.432952      37.752427\n",
       "50%      -122.416420      37.775421\n",
       "75%      -122.406959      37.784369\n",
       "max      -120.500000      90.000000"
      ]
     },
     "execution_count": 46,
     "metadata": {},
     "output_type": "execute_result"
    }
   ],
   "source": [
    "data.describe()"
   ]
  },
  {
   "cell_type": "code",
   "execution_count": 47,
   "metadata": {
    "collapsed": false
   },
   "outputs": [
    {
     "name": "stdout",
     "output_type": "stream",
     "text": [
      "Диапазон знаений для координаты Х: [-122.51, -120.5]\n",
      "Диапазон знаений для координаты Y: [37.71, 90.0]\n"
     ]
    }
   ],
   "source": [
    "maxX = round(max(data[\"X\"]), 2)\n",
    "maxY = round(max(data[\"Y\"]), 2)\n",
    "minX = round(min(data[\"X\"]), 2)\n",
    "minY = round(min(data[\"Y\"]), 2)\n",
    "print(\"Диапазон знаений для координаты Х: [\" + str(minX) + \", \" + str(maxX) + \"]\")\n",
    "print(\"Диапазон знаений для координаты Y: [\" + str(minY) + \", \" + str(maxY) + \"]\")"
   ]
  },
  {
   "cell_type": "code",
   "execution_count": 48,
   "metadata": {
    "collapsed": false
   },
   "outputs": [
    {
     "name": "stdout",
     "output_type": "stream",
     "text": [
      "Всего происшествий: 878049\n"
     ]
    }
   ],
   "source": [
    "print(\"Всего происшествий: \" + str(len(data[\"Category\"])))"
   ]
  },
  {
   "cell_type": "markdown",
   "metadata": {},
   "source": [
    "Виды происшествий:"
   ]
  },
  {
   "cell_type": "code",
   "execution_count": 49,
   "metadata": {
    "collapsed": false
   },
   "outputs": [
    {
     "data": {
      "text/plain": [
       "Category\n",
       "ARSON                            1513\n",
       "ASSAULT                         76876\n",
       "BAD CHECKS                        406\n",
       "BRIBERY                           289\n",
       "BURGLARY                        36755\n",
       "DISORDERLY CONDUCT               4320\n",
       "DRIVING UNDER THE INFLUENCE      2268\n",
       "DRUG/NARCOTIC                   53971\n",
       "DRUNKENNESS                      4280\n",
       "EMBEZZLEMENT                     1166\n",
       "EXTORTION                         256\n",
       "FAMILY OFFENSES                   491\n",
       "FORGERY/COUNTERFEITING          10609\n",
       "FRAUD                           16679\n",
       "GAMBLING                          146\n",
       "KIDNAPPING                       2341\n",
       "LARCENY/THEFT                  174900\n",
       "LIQUOR LAWS                      1903\n",
       "LOITERING                        1225\n",
       "MISSING PERSON                  25989\n",
       "NON-CRIMINAL                    92304\n",
       "OTHER OFFENSES                 126182\n",
       "PORNOGRAPHY/OBSCENE MAT            22\n",
       "PROSTITUTION                     7484\n",
       "RECOVERED VEHICLE                3138\n",
       "ROBBERY                         23000\n",
       "RUNAWAY                          1946\n",
       "SECONDARY CODES                  9985\n",
       "SEX OFFENSES FORCIBLE            4388\n",
       "SEX OFFENSES NON FORCIBLE         148\n",
       "STOLEN PROPERTY                  4540\n",
       "SUICIDE                           508\n",
       "SUSPICIOUS OCC                  31414\n",
       "TREA                                6\n",
       "TRESPASS                         7326\n",
       "VANDALISM                       44725\n",
       "VEHICLE THEFT                   53781\n",
       "WARRANTS                        42214\n",
       "WEAPON LAWS                      8555\n",
       "dtype: int64"
      ]
     },
     "execution_count": 49,
     "metadata": {},
     "output_type": "execute_result"
    }
   ],
   "source": [
    "cat = data.groupby(\"Category\").size()\n",
    "cat"
   ]
  },
  {
   "cell_type": "markdown",
   "metadata": {},
   "source": [
    "Варианты исходов:"
   ]
  },
  {
   "cell_type": "code",
   "execution_count": 50,
   "metadata": {
    "collapsed": false
   },
   "outputs": [
    {
     "data": {
      "text/plain": [
       "Resolution\n",
       "ARREST, BOOKED                            206403\n",
       "ARREST, CITED                              77004\n",
       "CLEARED-CONTACT JUVENILE FOR MORE INFO       217\n",
       "COMPLAINANT REFUSES TO PROSECUTE            3976\n",
       "DISTRICT ATTORNEY REFUSES TO PROSECUTE      3934\n",
       "EXCEPTIONAL CLEARANCE                       1530\n",
       "JUVENILE ADMONISHED                         1455\n",
       "JUVENILE BOOKED                             5564\n",
       "JUVENILE CITED                              3332\n",
       "JUVENILE DIVERTED                            355\n",
       "LOCATED                                    17101\n",
       "NONE                                      526790\n",
       "NOT PROSECUTED                              3714\n",
       "PROSECUTED BY OUTSIDE AGENCY                2504\n",
       "PROSECUTED FOR LESSER OFFENSE                 51\n",
       "PSYCHOPATHIC CASE                          14534\n",
       "UNFOUNDED                                   9585\n",
       "dtype: int64"
      ]
     },
     "execution_count": 50,
     "metadata": {},
     "output_type": "execute_result"
    }
   ],
   "source": [
    "data.groupby(\"Resolution\").size()"
   ]
  },
  {
   "cell_type": "markdown",
   "metadata": {},
   "source": [
    "Исход в зависимости от преступления:"
   ]
  },
  {
   "cell_type": "code",
   "execution_count": 51,
   "metadata": {
    "collapsed": false
   },
   "outputs": [
    {
     "data": {
      "text/plain": [
       "Resolution      Category                   \n",
       "ARREST, BOOKED  ARSON                            203\n",
       "                ASSAULT                        23448\n",
       "                BAD CHECKS                        25\n",
       "                BRIBERY                          159\n",
       "                BURGLARY                        4867\n",
       "                DISORDERLY CONDUCT              1507\n",
       "                DRIVING UNDER THE INFLUENCE     1939\n",
       "                DRUG/NARCOTIC                  43749\n",
       "                DRUNKENNESS                     3275\n",
       "                EMBEZZLEMENT                     163\n",
       "                EXTORTION                         43\n",
       "                FAMILY OFFENSES                  126\n",
       "                FORGERY/COUNTERFEITING          1940\n",
       "                FRAUD                           1907\n",
       "                GAMBLING                          39\n",
       "                KIDNAPPING                      1014\n",
       "                LARCENY/THEFT                   9913\n",
       "                LIQUOR LAWS                      904\n",
       "                LOITERING                        328\n",
       "                MISSING PERSON                   452\n",
       "                NON-CRIMINAL                    3143\n",
       "                OTHER OFFENSES                 41213\n",
       "                PORNOGRAPHY/OBSCENE MAT            5\n",
       "                PROSTITUTION                    2331\n",
       "                RECOVERED VEHICLE                195\n",
       "                ROBBERY                         3882\n",
       "                RUNAWAY                            9\n",
       "                SECONDARY CODES                 3246\n",
       "                SEX OFFENSES FORCIBLE            901\n",
       "                SEX OFFENSES NON FORCIBLE         32\n",
       "                                               ...  \n",
       "UNFOUNDED       DRUNKENNESS                        9\n",
       "                EMBEZZLEMENT                      16\n",
       "                EXTORTION                          1\n",
       "                FAMILY OFFENSES                   23\n",
       "                FORGERY/COUNTERFEITING            97\n",
       "                FRAUD                            109\n",
       "                GAMBLING                           1\n",
       "                KIDNAPPING                        31\n",
       "                LARCENY/THEFT                    525\n",
       "                LIQUOR LAWS                        2\n",
       "                LOITERING                          2\n",
       "                MISSING PERSON                   251\n",
       "                NON-CRIMINAL                    2920\n",
       "                OTHER OFFENSES                   619\n",
       "                PORNOGRAPHY/OBSCENE MAT            1\n",
       "                PROSTITUTION                       6\n",
       "                RECOVERED VEHICLE                  1\n",
       "                ROBBERY                          169\n",
       "                RUNAWAY                           10\n",
       "                SECONDARY CODES                   93\n",
       "                SEX OFFENSES FORCIBLE            209\n",
       "                SEX OFFENSES NON FORCIBLE          3\n",
       "                STOLEN PROPERTY                    4\n",
       "                SUICIDE                            3\n",
       "                SUSPICIOUS OCC                  1012\n",
       "                TRESPASS                          17\n",
       "                VANDALISM                        201\n",
       "                VEHICLE THEFT                   2142\n",
       "                WARRANTS                          45\n",
       "                WEAPON LAWS                       76\n",
       "dtype: int64"
      ]
     },
     "execution_count": 51,
     "metadata": {},
     "output_type": "execute_result"
    }
   ],
   "source": [
    "data.groupby([\"Resolution\", \"Category\"]).size()"
   ]
  },
  {
   "cell_type": "code",
   "execution_count": 52,
   "metadata": {
    "collapsed": false
   },
   "outputs": [
    {
     "data": {
      "text/plain": [
       "<matplotlib.axes._subplots.AxesSubplot at 0x2bc58174240>"
      ]
     },
     "execution_count": 52,
     "metadata": {},
     "output_type": "execute_result"
    },
    {
     "data": {
      "image/png": "[encoded data removed]",
      "text/plain": [
       "<matplotlib.figure.Figure at 0x2bc3eb8a470>"
      ]
     },
     "metadata": {},
     "output_type": "display_data"
    }
   ],
   "source": [
    "from pandas import DataFrame \n",
    "\n",
    "d = data.groupby(\"DayOfWeek\").size().to_dict()\n",
    "DataFrame.from_dict(data = d, orient='index').plot(kind='bar', legend=False, color = 'red')"
   ]
  },
  {
   "cell_type": "code",
   "execution_count": 53,
   "metadata": {
    "collapsed": false
   },
   "outputs": [
    {
     "data": {
      "text/plain": [
       "<matplotlib.axes._subplots.AxesSubplot at 0x2bc461b04a8>"
      ]
     },
     "execution_count": 53,
     "metadata": {},
     "output_type": "execute_result"
    },
    {
     "data": {
      "image/png": "[encoded data removed]",
      "text/plain": [
       "<matplotlib.figure.Figure at 0x2bc461e4e80>"
      ]
     },
     "metadata": {},
     "output_type": "display_data"
    }
   ],
   "source": [
    "d = data.groupby(\"PdDistrict\").size().to_dict()\n",
    "DataFrame.from_dict(data = d, orient='index').plot(kind='bar', legend=False, color = 'blue')"
   ]
  },
  {
   "cell_type": "markdown",
   "metadata": {},
   "source": [
    "Проверка на наличие Nan в таблице"
   ]
  },
  {
   "cell_type": "code",
   "execution_count": 54,
   "metadata": {
    "collapsed": false,
    "scrolled": true
   },
   "outputs": [
    {
     "name": "stdout",
     "output_type": "stream",
     "text": [
      "0\n",
      "0\n"
     ]
    }
   ],
   "source": [
    "\n",
    "\n",
    "count = 0\n",
    "for i in data[\"X\"]:\n",
    "    if math.isnan(i):\n",
    "        count += 1\n",
    "print(count)\n",
    "\n",
    "count = 0\n",
    "for i in data[\"Y\"]:\n",
    "    if math.isnan(i):\n",
    "        count += 1\n",
    "print(count)"
   ]
  },
  {
   "cell_type": "markdown",
   "metadata": {},
   "source": [
    "Нормирование данных по столбцам \"Х\" и \"Y\""
   ]
  },
  {
   "cell_type": "code",
   "execution_count": 55,
   "metadata": {
    "collapsed": false
   },
   "outputs": [
    {
     "data": {
      "text/html": [
       "<div>\n",
       "<table border=\"1\" class=\"dataframe\">\n",
       "  <thead>\n",
       "    <tr style=\"text-align: right;\">\n",
       "      <th></th>\n",
       "      <th>Dates</th>\n",
       "      <th>Category</th>\n",
       "      <th>Descript</th>\n",
       "      <th>DayOfWeek</th>\n",
       "      <th>PdDistrict</th>\n",
       "      <th>Resolution</th>\n",
       "      <th>Address</th>\n",
       "      <th>X</th>\n",
       "      <th>Y</th>\n",
       "    </tr>\n",
       "  </thead>\n",
       "  <tbody>\n",
       "    <tr>\n",
       "      <th>0</th>\n",
       "      <td>2015-05-13 23:53:00</td>\n",
       "      <td>WARRANTS</td>\n",
       "      <td>WARRANT ARREST</td>\n",
       "      <td>Wednesday</td>\n",
       "      <td>NORTHERN</td>\n",
       "      <td>ARREST, BOOKED</td>\n",
       "      <td>OAK ST / LAGUNA ST</td>\n",
       "      <td>-0.002931</td>\n",
       "      <td>0.000088</td>\n",
       "    </tr>\n",
       "    <tr>\n",
       "      <th>1</th>\n",
       "      <td>2015-05-13 23:53:00</td>\n",
       "      <td>OTHER OFFENSES</td>\n",
       "      <td>TRAFFIC VIOLATION ARREST</td>\n",
       "      <td>Wednesday</td>\n",
       "      <td>NORTHERN</td>\n",
       "      <td>ARREST, BOOKED</td>\n",
       "      <td>OAK ST / LAGUNA ST</td>\n",
       "      <td>-0.002931</td>\n",
       "      <td>0.000088</td>\n",
       "    </tr>\n",
       "    <tr>\n",
       "      <th>2</th>\n",
       "      <td>2015-05-13 23:33:00</td>\n",
       "      <td>OTHER OFFENSES</td>\n",
       "      <td>TRAFFIC VIOLATION ARREST</td>\n",
       "      <td>Wednesday</td>\n",
       "      <td>NORTHERN</td>\n",
       "      <td>ARREST, BOOKED</td>\n",
       "      <td>VANNESS AV / GREENWICH ST</td>\n",
       "      <td>-0.002171</td>\n",
       "      <td>0.000582</td>\n",
       "    </tr>\n",
       "    <tr>\n",
       "      <th>3</th>\n",
       "      <td>2015-05-13 23:30:00</td>\n",
       "      <td>LARCENY/THEFT</td>\n",
       "      <td>GRAND THEFT FROM LOCKED AUTO</td>\n",
       "      <td>Wednesday</td>\n",
       "      <td>NORTHERN</td>\n",
       "      <td>NONE</td>\n",
       "      <td>1500 Block of LOMBARD ST</td>\n",
       "      <td>-0.003480</td>\n",
       "      <td>0.000590</td>\n",
       "    </tr>\n",
       "    <tr>\n",
       "      <th>4</th>\n",
       "      <td>2015-05-13 23:30:00</td>\n",
       "      <td>LARCENY/THEFT</td>\n",
       "      <td>GRAND THEFT FROM LOCKED AUTO</td>\n",
       "      <td>Wednesday</td>\n",
       "      <td>PARK</td>\n",
       "      <td>NONE</td>\n",
       "      <td>100 Block of BRODERICK ST</td>\n",
       "      <td>-0.009322</td>\n",
       "      <td>0.000029</td>\n",
       "    </tr>\n",
       "  </tbody>\n",
       "</table>\n",
       "</div>"
      ],
      "text/plain": [
       "                 Dates        Category                      Descript  \\\n",
       "0  2015-05-13 23:53:00        WARRANTS                WARRANT ARREST   \n",
       "1  2015-05-13 23:53:00  OTHER OFFENSES      TRAFFIC VIOLATION ARREST   \n",
       "2  2015-05-13 23:33:00  OTHER OFFENSES      TRAFFIC VIOLATION ARREST   \n",
       "3  2015-05-13 23:30:00   LARCENY/THEFT  GRAND THEFT FROM LOCKED AUTO   \n",
       "4  2015-05-13 23:30:00   LARCENY/THEFT  GRAND THEFT FROM LOCKED AUTO   \n",
       "\n",
       "   DayOfWeek PdDistrict      Resolution                    Address         X  \\\n",
       "0  Wednesday   NORTHERN  ARREST, BOOKED         OAK ST / LAGUNA ST -0.002931   \n",
       "1  Wednesday   NORTHERN  ARREST, BOOKED         OAK ST / LAGUNA ST -0.002931   \n",
       "2  Wednesday   NORTHERN  ARREST, BOOKED  VANNESS AV / GREENWICH ST -0.002171   \n",
       "3  Wednesday   NORTHERN            NONE   1500 Block of LOMBARD ST -0.003480   \n",
       "4  Wednesday       PARK            NONE  100 Block of BRODERICK ST -0.009322   \n",
       "\n",
       "          Y  \n",
       "0  0.000088  \n",
       "1  0.000088  \n",
       "2  0.000582  \n",
       "3  0.000590  \n",
       "4  0.000029  "
      ]
     },
     "execution_count": 55,
     "metadata": {},
     "output_type": "execute_result"
    }
   ],
   "source": [
    "meanX = round(data[\"X\"].mean(), 2);\n",
    "meanY = round(data[\"Y\"].mean(), 2);\n",
    "\n",
    "data[\"X\"] = data[\"X\"].apply(lambda x: (x - meanX) / (maxX - minX))\n",
    "data[\"Y\"] = data[\"Y\"].apply(lambda x: (x - meanY) / (maxY - minY))\n",
    "data.head()"
   ]
  },
  {
   "cell_type": "code",
   "execution_count": 56,
   "metadata": {
    "collapsed": false
   },
   "outputs": [
    {
     "data": {
      "text/html": [
       "<div>\n",
       "<table border=\"1\" class=\"dataframe\">\n",
       "  <thead>\n",
       "    <tr style=\"text-align: right;\">\n",
       "      <th></th>\n",
       "      <th>Category</th>\n",
       "      <th>Descript</th>\n",
       "      <th>DayOfWeek</th>\n",
       "      <th>PdDistrict</th>\n",
       "      <th>Resolution</th>\n",
       "      <th>Address</th>\n",
       "      <th>X</th>\n",
       "      <th>Y</th>\n",
       "      <th>Time</th>\n",
       "      <th>Year</th>\n",
       "      <th>Month</th>\n",
       "      <th>Day</th>\n",
       "    </tr>\n",
       "  </thead>\n",
       "  <tbody>\n",
       "    <tr>\n",
       "      <th>0</th>\n",
       "      <td>WARRANTS</td>\n",
       "      <td>WARRANT ARREST</td>\n",
       "      <td>Wednesday</td>\n",
       "      <td>NORTHERN</td>\n",
       "      <td>ARREST, BOOKED</td>\n",
       "      <td>OAK ST / LAGUNA ST</td>\n",
       "      <td>-0.002931</td>\n",
       "      <td>0.000088</td>\n",
       "      <td>23:53:00</td>\n",
       "      <td>2015</td>\n",
       "      <td>05</td>\n",
       "      <td>13</td>\n",
       "    </tr>\n",
       "    <tr>\n",
       "      <th>1</th>\n",
       "      <td>OTHER OFFENSES</td>\n",
       "      <td>TRAFFIC VIOLATION ARREST</td>\n",
       "      <td>Wednesday</td>\n",
       "      <td>NORTHERN</td>\n",
       "      <td>ARREST, BOOKED</td>\n",
       "      <td>OAK ST / LAGUNA ST</td>\n",
       "      <td>-0.002931</td>\n",
       "      <td>0.000088</td>\n",
       "      <td>23:53:00</td>\n",
       "      <td>2015</td>\n",
       "      <td>05</td>\n",
       "      <td>13</td>\n",
       "    </tr>\n",
       "    <tr>\n",
       "      <th>2</th>\n",
       "      <td>OTHER OFFENSES</td>\n",
       "      <td>TRAFFIC VIOLATION ARREST</td>\n",
       "      <td>Wednesday</td>\n",
       "      <td>NORTHERN</td>\n",
       "      <td>ARREST, BOOKED</td>\n",
       "      <td>VANNESS AV / GREENWICH ST</td>\n",
       "      <td>-0.002171</td>\n",
       "      <td>0.000582</td>\n",
       "      <td>23:33:00</td>\n",
       "      <td>2015</td>\n",
       "      <td>05</td>\n",
       "      <td>13</td>\n",
       "    </tr>\n",
       "    <tr>\n",
       "      <th>3</th>\n",
       "      <td>LARCENY/THEFT</td>\n",
       "      <td>GRAND THEFT FROM LOCKED AUTO</td>\n",
       "      <td>Wednesday</td>\n",
       "      <td>NORTHERN</td>\n",
       "      <td>NONE</td>\n",
       "      <td>1500 Block of LOMBARD ST</td>\n",
       "      <td>-0.003480</td>\n",
       "      <td>0.000590</td>\n",
       "      <td>23:30:00</td>\n",
       "      <td>2015</td>\n",
       "      <td>05</td>\n",
       "      <td>13</td>\n",
       "    </tr>\n",
       "    <tr>\n",
       "      <th>4</th>\n",
       "      <td>LARCENY/THEFT</td>\n",
       "      <td>GRAND THEFT FROM LOCKED AUTO</td>\n",
       "      <td>Wednesday</td>\n",
       "      <td>PARK</td>\n",
       "      <td>NONE</td>\n",
       "      <td>100 Block of BRODERICK ST</td>\n",
       "      <td>-0.009322</td>\n",
       "      <td>0.000029</td>\n",
       "      <td>23:30:00</td>\n",
       "      <td>2015</td>\n",
       "      <td>05</td>\n",
       "      <td>13</td>\n",
       "    </tr>\n",
       "  </tbody>\n",
       "</table>\n",
       "</div>"
      ],
      "text/plain": [
       "         Category                      Descript  DayOfWeek PdDistrict  \\\n",
       "0        WARRANTS                WARRANT ARREST  Wednesday   NORTHERN   \n",
       "1  OTHER OFFENSES      TRAFFIC VIOLATION ARREST  Wednesday   NORTHERN   \n",
       "2  OTHER OFFENSES      TRAFFIC VIOLATION ARREST  Wednesday   NORTHERN   \n",
       "3   LARCENY/THEFT  GRAND THEFT FROM LOCKED AUTO  Wednesday   NORTHERN   \n",
       "4   LARCENY/THEFT  GRAND THEFT FROM LOCKED AUTO  Wednesday       PARK   \n",
       "\n",
       "       Resolution                    Address         X         Y      Time  \\\n",
       "0  ARREST, BOOKED         OAK ST / LAGUNA ST -0.002931  0.000088  23:53:00   \n",
       "1  ARREST, BOOKED         OAK ST / LAGUNA ST -0.002931  0.000088  23:53:00   \n",
       "2  ARREST, BOOKED  VANNESS AV / GREENWICH ST -0.002171  0.000582  23:33:00   \n",
       "3            NONE   1500 Block of LOMBARD ST -0.003480  0.000590  23:30:00   \n",
       "4            NONE  100 Block of BRODERICK ST -0.009322  0.000029  23:30:00   \n",
       "\n",
       "   Year Month Day  \n",
       "0  2015    05  13  \n",
       "1  2015    05  13  \n",
       "2  2015    05  13  \n",
       "3  2015    05  13  \n",
       "4  2015    05  13  "
      ]
     },
     "execution_count": 56,
     "metadata": {},
     "output_type": "execute_result"
    }
   ],
   "source": [
    "def parseData(test):\n",
    "    # 1 step\n",
    "    test['Date'], test['Time'] = zip(*test[\"Dates\"].str.split().tolist())\n",
    "    del(test['Dates'])\n",
    "\n",
    "    # 2 step\n",
    "    test['Year'], test['Month'], test['Day'] = zip(*test[\"Date\"].str.split('-').tolist())\n",
    "    del(test['Date'])\n",
    "\n",
    "    #3 step\n",
    "\n",
    "    #cols = test.columns.tolist()\n",
    "    #cols = cols[1:] + cols[:1]\n",
    "    #test = test[cols]\n",
    "    return test\n",
    "data = parseData(data)\n",
    "data.head()"
   ]
  },
  {
   "cell_type": "markdown",
   "metadata": {},
   "source": [
    "Самый \"преступный\" день:"
   ]
  },
  {
   "cell_type": "code",
   "execution_count": 57,
   "metadata": {
    "collapsed": false
   },
   "outputs": [
    {
     "data": {
      "text/plain": [
       "<matplotlib.axes._subplots.AxesSubplot at 0x2bc3d168518>"
      ]
     },
     "execution_count": 57,
     "metadata": {},
     "output_type": "execute_result"
    },
    {
     "data": {
      "image/png": "[encoded data removed]",
      "text/plain": [
       "<matplotlib.figure.Figure at 0x2bc3eb8aba8>"
      ]
     },
     "metadata": {},
     "output_type": "display_data"
    }
   ],
   "source": [
    "d = data.groupby(\"Day\").size().to_dict()\n",
    "DataFrame.from_dict(data = d, orient='index').plot(kind='bar', legend=False, color = 'blue')"
   ]
  },
  {
   "cell_type": "markdown",
   "metadata": {},
   "source": [
    "Самый \"преступный\" месяц:"
   ]
  },
  {
   "cell_type": "code",
   "execution_count": 58,
   "metadata": {
    "collapsed": false
   },
   "outputs": [
    {
     "data": {
      "text/plain": [
       "<matplotlib.axes._subplots.AxesSubplot at 0x2bc488050b8>"
      ]
     },
     "execution_count": 58,
     "metadata": {},
     "output_type": "execute_result"
    },
    {
     "data": {
      "image/png": "[encoded data removed]",
      "text/plain": [
       "<matplotlib.figure.Figure at 0x2bc4881a390>"
      ]
     },
     "metadata": {},
     "output_type": "display_data"
    }
   ],
   "source": [
    "d = data.groupby(\"Month\").size().to_dict()\n",
    "DataFrame.from_dict(data = d, orient='index').plot(kind='bar', legend=False, color = 'yellow')"
   ]
  },
  {
   "cell_type": "markdown",
   "metadata": {},
   "source": [
    "Самый \"преступный\" год: "
   ]
  },
  {
   "cell_type": "code",
   "execution_count": 59,
   "metadata": {
    "collapsed": false
   },
   "outputs": [
    {
     "data": {
      "text/plain": [
       "<matplotlib.axes._subplots.AxesSubplot at 0x2bc48a8a9e8>"
      ]
     },
     "execution_count": 59,
     "metadata": {},
     "output_type": "execute_result"
    },
    {
     "data": {
      "image/png": "[encoded data removed]",
      "text/plain": [
       "<matplotlib.figure.Figure at 0x2bc48b2f898>"
      ]
     },
     "metadata": {},
     "output_type": "display_data"
    }
   ],
   "source": [
    "d = data.groupby(\"Year\").size().to_dict()\n",
    "DataFrame.from_dict(data = d, orient='index').plot(kind='bar', legend=False, color = 'green')"
   ]
  },
  {
   "cell_type": "markdown",
   "metadata": {
    "collapsed": true
   },
   "source": [
    "# Загрузка тренировочной и тестовой выборок "
   ]
  },
  {
   "cell_type": "code",
   "execution_count": 115,
   "metadata": {
    "collapsed": false
   },
   "outputs": [],
   "source": [
    "import pandas as pd\n",
    "import numpy as np\n",
    "\n",
    "train = pd.read_csv(\"train-full.csv\")\n",
    "test = pd.read_csv(\"test.csv\")"
   ]
  },
  {
   "cell_type": "code",
   "execution_count": 116,
   "metadata": {
    "collapsed": false
   },
   "outputs": [
    {
     "name": "stdout",
     "output_type": "stream",
     "text": [
      "                 Dates        Category                      Descript  \\\n",
      "0  2015-05-13 23:53:00        WARRANTS                WARRANT ARREST   \n",
      "1  2015-05-13 23:53:00  OTHER OFFENSES      TRAFFIC VIOLATION ARREST   \n",
      "2  2015-05-13 23:33:00  OTHER OFFENSES      TRAFFIC VIOLATION ARREST   \n",
      "3  2015-05-13 23:30:00   LARCENY/THEFT  GRAND THEFT FROM LOCKED AUTO   \n",
      "4  2015-05-13 23:30:00   LARCENY/THEFT  GRAND THEFT FROM LOCKED AUTO   \n",
      "\n",
      "   DayOfWeek PdDistrict      Resolution                    Address  \\\n",
      "0  Wednesday   NORTHERN  ARREST, BOOKED         OAK ST / LAGUNA ST   \n",
      "1  Wednesday   NORTHERN  ARREST, BOOKED         OAK ST / LAGUNA ST   \n",
      "2  Wednesday   NORTHERN  ARREST, BOOKED  VANNESS AV / GREENWICH ST   \n",
      "3  Wednesday   NORTHERN            NONE   1500 Block of LOMBARD ST   \n",
      "4  Wednesday       PARK            NONE  100 Block of BRODERICK ST   \n",
      "\n",
      "            X          Y  \n",
      "0 -122.425892  37.774599  \n",
      "1 -122.425892  37.774599  \n",
      "2 -122.424363  37.800414  \n",
      "3 -122.426995  37.800873  \n",
      "4 -122.438738  37.771541  \n"
     ]
    }
   ],
   "source": [
    "print(train.head(5))"
   ]
  },
  {
   "cell_type": "markdown",
   "metadata": {},
   "source": [
    "# Preprocessing"
   ]
  },
  {
   "cell_type": "markdown",
   "metadata": {},
   "source": [
    "Ниже приведен перевод категориальных признаков в вещественные. Если у признака N - возможных вариантов, то каждый из вариантов обозначен числом от 1 до N"
   ]
  },
  {
   "cell_type": "code",
   "execution_count": 117,
   "metadata": {
    "collapsed": false
   },
   "outputs": [
    {
     "name": "stdout",
     "output_type": "stream",
     "text": [
      "                 Dates        Category                        Descript  \\\n",
      "0  2015-05-13 23:53:00        WARRANTS                  WARRANT ARREST   \n",
      "1  2015-05-13 23:53:00  OTHER OFFENSES        TRAFFIC VIOLATION ARREST   \n",
      "2  2015-05-13 23:33:00  OTHER OFFENSES        TRAFFIC VIOLATION ARREST   \n",
      "3  2015-05-13 23:30:00   LARCENY/THEFT    GRAND THEFT FROM LOCKED AUTO   \n",
      "4  2015-05-13 23:30:00   LARCENY/THEFT    GRAND THEFT FROM LOCKED AUTO   \n",
      "5  2015-05-13 23:30:00   LARCENY/THEFT  GRAND THEFT FROM UNLOCKED AUTO   \n",
      "6  2015-05-13 23:30:00   VEHICLE THEFT               STOLEN AUTOMOBILE   \n",
      "7  2015-05-13 23:30:00   VEHICLE THEFT               STOLEN AUTOMOBILE   \n",
      "8  2015-05-13 23:00:00   LARCENY/THEFT    GRAND THEFT FROM LOCKED AUTO   \n",
      "9  2015-05-13 23:00:00   LARCENY/THEFT    GRAND THEFT FROM LOCKED AUTO   \n",
      "\n",
      "   DayOfWeek  PdDistrict  Resolution                        Address  \\\n",
      "0          6           4           0             OAK ST / LAGUNA ST   \n",
      "1          6           4           0             OAK ST / LAGUNA ST   \n",
      "2          6           4           0      VANNESS AV / GREENWICH ST   \n",
      "3          6           4          11       1500 Block of LOMBARD ST   \n",
      "4          6           5          11      100 Block of BRODERICK ST   \n",
      "5          6           2          11            0 Block of TEDDY AV   \n",
      "6          6           2          11            AVALON AV / PERU AV   \n",
      "7          6           0          11       KIRKWOOD AV / DONAHUE ST   \n",
      "8          6           6          11           600 Block of 47TH AV   \n",
      "9          6           1          11  JEFFERSON ST / LEAVENWORTH ST   \n",
      "\n",
      "            X          Y  \n",
      "0 -122.425892  37.774599  \n",
      "1 -122.425892  37.774599  \n",
      "2 -122.424363  37.800414  \n",
      "3 -122.426995  37.800873  \n",
      "4 -122.438738  37.771541  \n",
      "5 -122.403252  37.713431  \n",
      "6 -122.423327  37.725138  \n",
      "7 -122.371274  37.727564  \n",
      "8 -122.508194  37.776601  \n",
      "9 -122.419088  37.807802  \n",
      "   Id                Dates  DayOfWeek  PdDistrict                   Address  \\\n",
      "0   0  2015-05-10 23:59:00          3           0   2000 Block of THOMAS AV   \n",
      "1   1  2015-05-10 23:51:00          3           0        3RD ST / REVERE AV   \n",
      "2   2  2015-05-10 23:50:00          3           4    2000 Block of GOUGH ST   \n",
      "3   3  2015-05-10 23:45:00          3           2  4700 Block of MISSION ST   \n",
      "4   4  2015-05-10 23:45:00          3           2  4700 Block of MISSION ST   \n",
      "5   5  2015-05-10 23:40:00          3           8     BROAD ST / CAPITOL AV   \n",
      "6   6  2015-05-10 23:30:00          3           2   100 Block of CHENERY ST   \n",
      "7   7  2015-05-10 23:30:00          3           2     200 Block of BANKS ST   \n",
      "8   8  2015-05-10 23:10:00          3           3     2900 Block of 16TH ST   \n",
      "9   9  2015-05-10 23:10:00          3           1      TAYLOR ST / GREEN ST   \n",
      "\n",
      "            X          Y  \n",
      "0 -122.399588  37.735051  \n",
      "1 -122.391523  37.732432  \n",
      "2 -122.426002  37.792212  \n",
      "3 -122.437394  37.721412  \n",
      "4 -122.437394  37.721412  \n",
      "5 -122.459024  37.713172  \n",
      "6 -122.425616  37.739351  \n",
      "7 -122.412652  37.739750  \n",
      "8 -122.418700  37.765165  \n",
      "9 -122.413935  37.798886  \n"
     ]
    }
   ],
   "source": [
    "from sklearn.preprocessing import LabelEncoder\n",
    "label = LabelEncoder()\n",
    "dicts = {}\n",
    "\n",
    "label.fit(train.Resolution.drop_duplicates())\n",
    "dicts['Resolution'] = list(label.classes_)\n",
    "train.Resolution = label.transform(train.Resolution)\n",
    "\n",
    "label.fit(train.DayOfWeek.drop_duplicates())\n",
    "dicts['DayOfWeek'] = list(label.classes_)\n",
    "train.DayOfWeek = label.transform(train.DayOfWeek)\n",
    "\n",
    "label.fit(test.DayOfWeek.drop_duplicates())\n",
    "dicts['DayOfWeek'] = list(label.classes_)\n",
    "test.DayOfWeek = label.transform(test.DayOfWeek)\n",
    "\n",
    "label.fit(train.PdDistrict.drop_duplicates())\n",
    "dicts['PdDistrict'] = list(label.classes_)\n",
    "train.PdDistrict = label.transform(train.PdDistrict)\n",
    "\n",
    "label.fit(test.PdDistrict.drop_duplicates())\n",
    "dicts['PdDistrict'] = list(label.classes_)\n",
    "test.PdDistrict = label.transform(test.PdDistrict)\n",
    "\n",
    "print(train.head(10))\n",
    "print(test.head(10))"
   ]
  },
  {
   "cell_type": "markdown",
   "metadata": {},
   "source": [
    "# Cross-Validation"
   ]
  },
  {
   "cell_type": "markdown",
   "metadata": {},
   "source": [
    "Берём в качестве целевой переменной столбец Resolution, а в качестве признаков - PdDistrict, DayOfWeek, X и Y"
   ]
  },
  {
   "cell_type": "code",
   "execution_count": 118,
   "metadata": {
    "collapsed": false
   },
   "outputs": [],
   "source": [
    "from sklearn import cross_validation\n",
    "feature_names = ['PdDistrict', 'DayOfWeek', 'X', 'Y','Time']\n",
    "kfold = 6\n",
    "itog_val = {}\n",
    "\n",
    "#различные алгоритмы решения\n",
    "from sklearn.neighbors import KNeighborsClassifier\n",
    "from sklearn.ensemble import RandomForestClassifier\n",
    "\n",
    "model_knc = KNeighborsClassifier(n_neighbors = 30) \n",
    "model_rfc = RandomForestClassifier(n_estimators = 80)"
   ]
  },
  {
   "cell_type": "markdown",
   "metadata": {},
   "source": [
    "# Проверка с помощью ROC - кривой  и крос - валидации лучшего алгоритма для даннной задачи"
   ]
  },
  {
   "cell_type": "code",
   "execution_count": 142,
   "metadata": {
    "collapsed": false
   },
   "outputs": [
    {
     "data": {
      "text/html": [
       "<div>\n",
       "<table border=\"1\" class=\"dataframe\">\n",
       "  <thead>\n",
       "    <tr style=\"text-align: right;\">\n",
       "      <th></th>\n",
       "      <th>Category</th>\n",
       "      <th>Descript</th>\n",
       "      <th>DayOfWeek</th>\n",
       "      <th>PdDistrict</th>\n",
       "      <th>Resolution</th>\n",
       "      <th>Address</th>\n",
       "      <th>X</th>\n",
       "      <th>Y</th>\n",
       "      <th>Time</th>\n",
       "      <th>Year</th>\n",
       "      <th>Month</th>\n",
       "      <th>Day</th>\n",
       "    </tr>\n",
       "  </thead>\n",
       "  <tbody>\n",
       "    <tr>\n",
       "      <th>175062</th>\n",
       "      <td>OTHER OFFENSES</td>\n",
       "      <td>DRIVERS LICENSE, SUSPENDED OR REVOKED</td>\n",
       "      <td>2</td>\n",
       "      <td>0</td>\n",
       "      <td>ARREST, CITED</td>\n",
       "      <td>PENNSYLVANIA AV / 22ND ST</td>\n",
       "      <td>0.013371</td>\n",
       "      <td>-0.000236</td>\n",
       "      <td>13</td>\n",
       "      <td>2013</td>\n",
       "      <td>01</td>\n",
       "      <td>21</td>\n",
       "    </tr>\n",
       "    <tr>\n",
       "      <th>95202</th>\n",
       "      <td>BURGLARY</td>\n",
       "      <td>BURGLARY, HOT PROWL, FORCIBLE ENTRY</td>\n",
       "      <td>5</td>\n",
       "      <td>1</td>\n",
       "      <td>NONE</td>\n",
       "      <td>600 Block of DIVISADERO ST</td>\n",
       "      <td>-0.008964</td>\n",
       "      <td>0.000104</td>\n",
       "      <td>12</td>\n",
       "      <td>2014</td>\n",
       "      <td>02</td>\n",
       "      <td>06</td>\n",
       "    </tr>\n",
       "    <tr>\n",
       "      <th>379565</th>\n",
       "      <td>LARCENY/THEFT</td>\n",
       "      <td>GRAND THEFT FROM LOCKED AUTO</td>\n",
       "      <td>3</td>\n",
       "      <td>2</td>\n",
       "      <td>NONE</td>\n",
       "      <td>LARKIN ST / BAY ST</td>\n",
       "      <td>-0.000905</td>\n",
       "      <td>0.000661</td>\n",
       "      <td>16</td>\n",
       "      <td>2010</td>\n",
       "      <td>01</td>\n",
       "      <td>26</td>\n",
       "    </tr>\n",
       "    <tr>\n",
       "      <th>464958</th>\n",
       "      <td>BURGLARY</td>\n",
       "      <td>BURGLARY OF APARTMENT HOUSE, UNLAWFUL ENTRY</td>\n",
       "      <td>2</td>\n",
       "      <td>3</td>\n",
       "      <td>NONE</td>\n",
       "      <td>1700 Block of LOMBARD ST</td>\n",
       "      <td>-0.005141</td>\n",
       "      <td>0.000587</td>\n",
       "      <td>6</td>\n",
       "      <td>2008</td>\n",
       "      <td>10</td>\n",
       "      <td>27</td>\n",
       "    </tr>\n",
       "    <tr>\n",
       "      <th>288115</th>\n",
       "      <td>OTHER OFFENSES</td>\n",
       "      <td>PROBATION VIOLATION</td>\n",
       "      <td>6</td>\n",
       "      <td>4</td>\n",
       "      <td>ARREST, BOOKED</td>\n",
       "      <td>100 Block of POWELL ST</td>\n",
       "      <td>0.006031</td>\n",
       "      <td>0.000305</td>\n",
       "      <td>16</td>\n",
       "      <td>2011</td>\n",
       "      <td>06</td>\n",
       "      <td>03</td>\n",
       "    </tr>\n",
       "  </tbody>\n",
       "</table>\n",
       "</div>"
      ],
      "text/plain": [
       "              Category                                     Descript  \\\n",
       "175062  OTHER OFFENSES        DRIVERS LICENSE, SUSPENDED OR REVOKED   \n",
       "95202         BURGLARY          BURGLARY, HOT PROWL, FORCIBLE ENTRY   \n",
       "379565   LARCENY/THEFT                 GRAND THEFT FROM LOCKED AUTO   \n",
       "464958        BURGLARY  BURGLARY OF APARTMENT HOUSE, UNLAWFUL ENTRY   \n",
       "288115  OTHER OFFENSES                          PROBATION VIOLATION   \n",
       "\n",
       "        DayOfWeek  PdDistrict      Resolution                     Address  \\\n",
       "175062          2           0   ARREST, CITED   PENNSYLVANIA AV / 22ND ST   \n",
       "95202           5           1            NONE  600 Block of DIVISADERO ST   \n",
       "379565          3           2            NONE          LARKIN ST / BAY ST   \n",
       "464958          2           3            NONE    1700 Block of LOMBARD ST   \n",
       "288115          6           4  ARREST, BOOKED      100 Block of POWELL ST   \n",
       "\n",
       "               X         Y Time  Year Month Day  \n",
       "175062  0.013371 -0.000236   13  2013    01  21  \n",
       "95202  -0.008964  0.000104   12  2014    02  06  \n",
       "379565 -0.000905  0.000661   16  2010    01  26  \n",
       "464958 -0.005141  0.000587    6  2008    10  27  \n",
       "288115  0.006031  0.000305   16  2011    06  03  "
      ]
     },
     "execution_count": 142,
     "metadata": {},
     "output_type": "execute_result"
    }
   ],
   "source": [
    "data_=pd.DataFrame(data.sample(1000))#собираем пдвыборку\n",
    "\n",
    "#далее приводим признаки к численным значениям\n",
    "districts=data_['PdDistrict'].unique()\n",
    "districts_dict = {}\n",
    "for i in range(len(districts)):\n",
    "    districts_dict[districts[i]] = i\n",
    "w_days={'Sunday':1, 'Monday': 2, 'Tuesday': 3, 'Wednesday': 4,'Thursday':5, 'Friday':6, 'Saturday':7}\n",
    "data_['DayOfWeek']=data_['DayOfWeek'].replace(w_days)\n",
    "data_['PdDistrict']=data_['PdDistrict'].replace(districts_dict)\n",
    "for i in range (data_.shape[0]):\n",
    "    data_.iloc[i, data_.columns.get_loc('Time')]=int(data_.iloc[i]['Time'].split(':')[0])#берем только час\n",
    "data_.head()"
   ]
  },
  {
   "cell_type": "code",
   "execution_count": 149,
   "metadata": {
    "collapsed": false
   },
   "outputs": [],
   "source": [
    "from sklearn.cross_validation import KFold\n",
    "kf = KFold(1000,kfold,shuffle=True,random_state =42)\n",
    "\n",
    "X=pd.DataFrame(data_[feature_names].copy())\n",
    "y=data_['Category'].copy()\n",
    "\n",
    "#формируем тринировочную и тестовую выборки\n",
    "for train_index, test_index in kf:\n",
    "    X_train, X_test = X.iloc[train_index], X.iloc[test_index]\n",
    "    y_train, y_test = y.iloc[train_index], y.iloc[test_index]\n",
    "    "
   ]
  },
  {
   "cell_type": "markdown",
   "metadata": {},
   "source": [
    "# Обучение и получение результатов"
   ]
  },
  {
   "cell_type": "code",
   "execution_count": 150,
   "metadata": {
    "collapsed": false
   },
   "outputs": [],
   "source": [
    "from pandas import DataFrame\n",
    "from sklearn.metrics import roc_auc_score\n",
    "from sklearn.metrics import roc_curve\n",
    "\n",
    "model_knc.fit(X_train,y_train)\n",
    "model_rfc.fit(X_train,y_train)\n",
    "\n",
    "#сохраняем scores для каждого класса в лексикографическом порядке\n",
    "y_pred_rfc=model_rfc.predict_proba(X_test)\n",
    "y_pred_knc=model_knc.predict_proba(X_test)"
   ]
  },
  {
   "cell_type": "markdown",
   "metadata": {},
   "source": [
    "Результат находится в result.csv"
   ]
  },
  {
   "cell_type": "markdown",
   "metadata": {
    "collapsed": true
   },
   "source": [
    "# Вывод\n"
   ]
  },
  {
   "cell_type": "code",
   "execution_count": 151,
   "metadata": {
    "collapsed": false
   },
   "outputs": [
    {
     "name": "stdout",
     "output_type": "stream",
     "text": [
      "0.974041889483\n",
      "0.985766045549\n"
     ]
    }
   ],
   "source": [
    "#для каждого правильного y достаем предсказанное значение вероятности принадлежности, соответствующее классу\n",
    "yy_p_r=[0]*len(y_test)\n",
    "for i in range (len(y_test)):\n",
    "    if (y_test.iloc[i] in arr_rfc):\n",
    "        yy_p_r[i]=y_pred_rfc[i][arr_rfc.index(y_test.iloc[i])]\n",
    "    else:\n",
    "        yy_p_k[i]=y_pred_knc[i][arr_knc.index('OTHER OFFENSES')]\n",
    "print(roc_auc_score(yy_rfc,yy_p_r))\n",
    "\n",
    "yy_p_k=[0]*len(y_test)\n",
    "for i in range (len(y_test)):\n",
    "    if (y_test.iloc[i] in arr_knc):\n",
    "        yy_p_k[i]=y_pred_knc[i][arr_knc.index(y_test.iloc[i])]\n",
    "    else:\n",
    "        yy_p_k[i]=y_pred_knc[i][arr_knc.index('OTHER OFFENSES')]\n",
    "print(roc_auc_score(yy_knc,yy_p_k))"
   ]
  },
  {
   "cell_type": "code",
   "execution_count": 152,
   "metadata": {
    "collapsed": false
   },
   "outputs": [],
   "source": [
    "#создаем массивы классов в нужном порядке\n",
    "arr_rfc=model_rfc.classes_.tolist()\n",
    "arr_knc=model_knc.classes_.tolist()\n",
    "\n",
    "#формируем бинарный y: 1, если ответ правильный (в данном случае используем уже  predict, a не predict_proba), 0 иначе\n",
    "yy_rfc=[1 if x==y else 0 for x,y in zip(model_rfc.predict(X_test).tolist(),y_test.tolist())]\n",
    "yy_knc=[1 if x==y else 0 for x,y in zip(model_knc.predict(X_test).tolist(),y_test.tolist())]\n"
   ]
  },
  {
   "cell_type": "code",
   "execution_count": 153,
   "metadata": {
    "collapsed": false
   },
   "outputs": [
    {
     "data": {
      "text/plain": [
       "0.98576604554865421"
      ]
     },
     "execution_count": 153,
     "metadata": {},
     "output_type": "execute_result"
    },
    {
     "data": {
      "image/png": "[encoded data removed]",
      "text/plain": [
       "<matplotlib.figure.Figure at 0x2bc21530588>"
      ]
     },
     "metadata": {},
     "output_type": "display_data"
    }
   ],
   "source": [
    "import matplotlib.pyplot as plt\n",
    "\n",
    "#roc_curve для K-nearest neighbours\n",
    "fpr, tpr, thresholds = roc_curve(yy_knc,yy_p_k)\n",
    "plt.plot(fpr, tpr)\n",
    "auc(fpr, tpr)"
   ]
  },
  {
   "cell_type": "code",
   "execution_count": 154,
   "metadata": {
    "collapsed": false
   },
   "outputs": [
    {
     "data": {
      "text/plain": [
       "0.98321078431372544"
      ]
     },
     "execution_count": 154,
     "metadata": {},
     "output_type": "execute_result"
    },
    {
     "data": {
      "image/png": "[encoded data removed]",
      "text/plain": [
       "<matplotlib.figure.Figure at 0x2bc215a5668>"
      ]
     },
     "metadata": {},
     "output_type": "display_data"
    }
   ],
   "source": [
    "#roc_curve для rrandom forest\n",
    "fpr, tpr, thresholds = roc_curve(yy_rfc,yy_p_r)\n",
    "plt.plot(fpr, tpr)\n",
    "auc(fpr, tpr)"
   ]
  },
  {
   "cell_type": "code",
   "execution_count": null,
   "metadata": {
    "collapsed": true
   },
   "outputs": [],
   "source": []
  },
  {
   "cell_type": "code",
   "execution_count": null,
   "metadata": {
    "collapsed": true
   },
   "outputs": [],
   "source": []
  }
 ],
 "metadata": {
  "anaconda-cloud": {},
  "kernelspec": {
   "display_name": "Python [conda root]",
   "language": "python",
   "name": "conda-root-py"
  },
  "language_info": {
   "codemirror_mode": {
    "name": "ipython",
    "version": 3
   },
   "file_extension": ".py",
   "mimetype": "text/x-python",
   "name": "python",
   "nbconvert_exporter": "python",
   "pygments_lexer": "ipython3",
   "version": "3.5.2"
  }
 },
 "nbformat": 4,
 "nbformat_minor": 0
}
